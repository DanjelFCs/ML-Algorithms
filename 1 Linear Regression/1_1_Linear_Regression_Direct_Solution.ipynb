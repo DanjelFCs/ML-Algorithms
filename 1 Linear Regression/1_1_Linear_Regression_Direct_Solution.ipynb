{
  "nbformat": 4,
  "nbformat_minor": 0,
  "metadata": {
    "colab": {
      "provenance": []
    },
    "kernelspec": {
      "name": "python3",
      "display_name": "Python 3"
    },
    "language_info": {
      "name": "python"
    }
  },
  "cells": [
    {
      "cell_type": "markdown",
      "source": [
        "Assume we have $N$ data points with $D$ features. Denote them by the matrix $A$ with $A_{ij}=(x^i_j)$ where $i\\in \\{1,\\cdots, N\\}, j\\in \\{1,\\cdots, D\\}$ and the $x^i_j$ are the data values. That means $A$ is a $N\\times D$ matrix. Let $t_1, \\cdots ,t_N$ be the target values.\n",
        "\n",
        "We also assume $x^i_1=1$ for all $i$ as the bias term. We define the function in variables the weights $w_1, \\cdots ,w_D$\n",
        "\n",
        "$$I(w_1, \\cdots ,w_D)=\\frac{1}{2N}\\sum_{j=1}^N\\biggl( \\sum_{i=1}^{D} w_i x_j^i- t_j\\biggr)^2.$$\n",
        "\n",
        "This function we want to minimize.\n",
        "We assume solving for the $0$ derivative solves the problem.\n",
        "The partial derivatives are\n",
        "$$\\frac{\\partial I}{\\partial w_k}(w_1, \\cdots ,w_D)=\\frac{1}{N}\\sum_{j=1}^N x^k_j\\biggl( \\sum_{i=1}^{D} w_i x_j^i- t_j\\biggr).$$\n",
        "\n",
        "We wish to solve the system of equations\n",
        "\n",
        "$$\\sum_{j=1}^N \\sum_{i=1}^{D} x^1_j   x_j^i w_i= \\sum_{j=1}^Nx^1_jt_j$$\n",
        "$$\\vdots$$\n",
        "$$\\sum_{j=1}^N \\sum_{i=1}^{D} x^D_j   x_j^i w_i= \\sum_{j=1}^Nx^D_jt_j.$$\n",
        "That is equal to\n",
        "$$\n",
        "\\left(\n",
        "\\begin{array}{}\n",
        "   \\sigma_{11} & \\cdots & \\sigma_{1D} \\\\\n",
        "   \\vdots & \\ddots & \\vdots \\\\\n",
        "   \\sigma_{D1} & \\cdots & \\sigma_{DD}\n",
        "\\end{array}\n",
        "\\right)\n",
        "\\left(\n",
        "\\begin{array}{}\n",
        "   w_{1}\\\\\n",
        "   \\vdots \\\\\n",
        "   w_{D}\n",
        "\\end{array}\n",
        "\\right) =\n",
        "\\left(\n",
        "\\begin{array}{}\n",
        "   \\gamma_{1}\\\\\n",
        "   \\vdots \\\\\n",
        "   \\gamma_{D}\n",
        "\\end{array}\n",
        "\\right)\n",
        "$$\n",
        "where $\\sigma_{ab}=\\sum_{l=1}^{N}x_l^ax_l^b$ and $\\gamma_a=\\sum_{l=1}^{N}x_l^at_l.$\n",
        "\n",
        "This we can solve."
      ],
      "metadata": {
        "id": "0EDdX6z8auuc"
      }
    },
    {
      "cell_type": "code",
      "source": [
        "import numpy as np\n",
        "\n",
        "#We create linear model data - 100 data points, 4 features\n",
        "N=100\n",
        "D=4\n",
        "#these will be the coefficients (a0 will be constant term)\n",
        "a0,a1,a2,a3=1,2,0.5,3\n",
        "\n",
        "#generate random data\n",
        "X=np.random.rand(100,4)\n",
        "#for bias term\n",
        "X[:,0]=np.ones(100)\n",
        "Y=a1*X[:,1]+a2*X[:,2]+a3*X[:,3]+a0*X[:,0]+0.3*np.random.rand(100) #this last term is some random noise/error"
      ],
      "metadata": {
        "id": "3_uC_9lXa4Yg"
      },
      "execution_count": 4,
      "outputs": []
    },
    {
      "cell_type": "code",
      "source": [
        "#Now we attempt to find the weights c,a_i by solving the above equation\n",
        "#This is our matrix of sigmas\n",
        "Sigmas=np.zeros((D,D))\n",
        "for a in range(D):\n",
        "  for b in range(D):\n",
        "    for l in range(N):\n",
        "      Sigmas[a][b]+=X[l][a]*X[l][b]\n",
        "\n",
        "#our vector of gammas\n",
        "gammas=np.zeros(D)\n",
        "for a in range(D):\n",
        "  for l in range(N):\n",
        "    gammas[a]+=X[l][a]*Y[l]"
      ],
      "metadata": {
        "id": "btFETja3fUXn"
      },
      "execution_count": 5,
      "outputs": []
    },
    {
      "cell_type": "code",
      "source": [
        "np.linalg.solve(Sigmas,gammas)"
      ],
      "metadata": {
        "colab": {
          "base_uri": "https://localhost:8080/"
        },
        "id": "keEVFJNVg4uN",
        "outputId": "6262eb27-28f4-46d2-851d-3a0769c4c7f5"
      },
      "execution_count": 6,
      "outputs": [
        {
          "output_type": "execute_result",
          "data": {
            "text/plain": [
              "array([1.18602106, 1.9881795 , 0.48046248, 2.986637  ])"
            ]
          },
          "metadata": {},
          "execution_count": 6
        }
      ]
    },
    {
      "cell_type": "markdown",
      "source": [
        "Hooray! Our strategy works!\n",
        "\n",
        "The coefficients match pretty well"
      ],
      "metadata": {
        "id": "C-vCJ7FolTcl"
      }
    },
    {
      "cell_type": "code",
      "source": [],
      "metadata": {
        "id": "PUPiHWQ4la9x"
      },
      "execution_count": 6,
      "outputs": []
    }
  ]
}